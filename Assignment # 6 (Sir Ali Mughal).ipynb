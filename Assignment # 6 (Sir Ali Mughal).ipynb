{
 "cells": [
  {
   "cell_type": "markdown",
   "metadata": {},
   "source": [
    "# Assignemtn NO. 6"
   ]
  },
  {
   "cell_type": "code",
   "execution_count": 8,
   "metadata": {},
   "outputs": [
    {
     "name": "stdout",
     "output_type": "stream",
     "text": [
      "Object-oriented programming (OOP) refers to a type of computer programming in which programmers \n",
      "define the data type of a data structure, and also the types of operations (functions) that can be \n",
      " applied to the data structure.\n"
     ]
    }
   ],
   "source": [
    "'''\n",
    "Question 1:\n",
    "Define Object Oriented Programming Language?\n",
    "'''\n",
    "#Solution:\n",
    "print(\"Object-oriented programming (OOP) refers to a type of computer programming in which programmers \\ndefine the data type of a data structure, and also the types of operations (functions) that can be \\n applied to the data structure.\")"
   ]
  },
  {
   "cell_type": "code",
   "execution_count": 11,
   "metadata": {},
   "outputs": [
    {
     "name": "stdout",
     "output_type": "stream",
     "text": [
      "Modularity for easier troubleshooting.\n",
      "Reuse of code through inheritance.\n",
      "Flexibility through polymorphism.\n",
      "Effective problem solving.\n"
     ]
    }
   ],
   "source": [
    "'''\n",
    "Question 2:\n",
    "List down the Benefits of OOP?\n",
    "'''\n",
    "#Solution:\n",
    "print(\"Modularity for easier troubleshooting.\\nReuse of code through inheritance.\\nFlexibility through polymorphism.\\nEffective problem solving.\")"
   ]
  },
  {
   "cell_type": "code",
   "execution_count": 13,
   "metadata": {},
   "outputs": [
    {
     "name": "stdout",
     "output_type": "stream",
     "text": [
      "A function is a piece of code that is called by name. It can be passed data to operate on \n",
      " (i.e. the parameters) and can optionally return data. A method is a piece of code that is called by a name that is associated with an object.\n"
     ]
    }
   ],
   "source": [
    "'''\n",
    "Question 3:\n",
    "Differentiate between function and method?\n",
    "'''\n",
    "#Solution:\n",
    "print(\"A function is a piece of code that is called by name. It can be passed data to operate on \\n (i.e. the parameters) and can optionally return data. A method is a piece of code that is called by a name that is associated with an object.\")"
   ]
  },
  {
   "cell_type": "code",
   "execution_count": 16,
   "metadata": {},
   "outputs": [
    {
     "name": "stdout",
     "output_type": "stream",
     "text": [
      "Class : \n",
      " A Class is like an object constructor, or a blueprint for creating objects. \n",
      "Object : \n",
      " In computer science, an object can be a variable \n",
      "Attribute : \n",
      " In using or programming computers, an attribute is a changeable property or characteristic of some component of a program that can be set to different values. \n",
      "Behavior : \n",
      " Objects in Python are generally classified according to their behaviors and the features that they implement. For example, all of the sequence types such as strings, lists, and tuples are grouped together merely because they all happen to support a common set of sequence operations such as s[n], len(s), etc \n"
     ]
    }
   ],
   "source": [
    "'''\n",
    "Question 4:\n",
    "Define the following terms:\n",
    "1. Class\n",
    "2. Object\n",
    "3. Attribute\n",
    "4. Behavior\n",
    "'''\n",
    "#Solution:\n",
    "print(\"Class : \\n A Class is like an object constructor, or a blueprint for creating objects. \")\n",
    "print(\"Object : \\n In computer science, an object can be a variable \")\n",
    "print(\"Attribute : \\n In using or programming computers, an attribute is a changeable property or characteristic of some component of a program that can be set to different values. \")\n",
    "print(\"Behavior : \\n Objects in Python are generally classified according to their behaviors and the features that they implement. For example, all of the sequence types such as strings, lists, and tuples are grouped together merely because they all happen to support a common set of sequence operations such as s[n], len(s), etc \")"
   ]
  },
  {
   "cell_type": "code",
   "execution_count": null,
   "metadata": {},
   "outputs": [],
   "source": [
    "'''\n",
    "Question 5:\n",
    "Write a code in python in which create a class named it Car which\n",
    "have 5 attributes such like (model, color and name etc.) and 3\n",
    "methods. And create 5 object instance from that class.\n",
    "'''\n",
    "#Solution:\n"
   ]
  }
 ],
 "metadata": {
  "kernelspec": {
   "display_name": "Python 3",
   "language": "python",
   "name": "python3"
  },
  "language_info": {
   "codemirror_mode": {
    "name": "ipython",
    "version": 3
   },
   "file_extension": ".py",
   "mimetype": "text/x-python",
   "name": "python",
   "nbconvert_exporter": "python",
   "pygments_lexer": "ipython3",
   "version": "3.7.1"
  }
 },
 "nbformat": 4,
 "nbformat_minor": 2
}
