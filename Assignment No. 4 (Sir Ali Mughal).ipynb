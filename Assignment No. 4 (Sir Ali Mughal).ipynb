{
 "cells": [
  {
   "cell_type": "markdown",
   "metadata": {},
   "source": [
    "# Assignment No. 4"
   ]
  },
  {
   "cell_type": "code",
   "execution_count": 2,
   "metadata": {},
   "outputs": [
    {
     "data": {
      "text/plain": [
       "'\\nQuestion1:\\nUse a dictionary to store information about a person you know.\\nStore their first name, last name, age, and the city in which they live.\\nYou should have keys such as first_name, last_name, age, and city. \\nPrint each piece of information stored in your dictionary. \\nAdd a new key value pair about qualification then update the qualification value to high academic \\nlevel then delete it.\\n'"
      ]
     },
     "execution_count": 2,
     "metadata": {},
     "output_type": "execute_result"
    }
   ],
   "source": [
    "'''\n",
    "Question1:\n",
    "Use a dictionary to store information about a person you know.\n",
    "Store their first name, last name, age, and the city in which they live.\n",
    "You should have keys such as first_name, last_name, age, and city. \n",
    "Print each piece of information stored in your dictionary. \n",
    "Add a new key value pair about qualification then update the qualification value to high academic \n",
    "level then delete it.\n",
    "'''\n",
    "#Solution:\n"
   ]
  },
  {
   "cell_type": "code",
   "execution_count": 3,
   "metadata": {},
   "outputs": [
    {
     "data": {
      "text/plain": [
       "'\\nQuestion2:\\nMake a dictionary called cities. Use the names of three cities as keys in your dictionary.\\nCreate a dictionary of information about each city and include the country that the city is in,\\nits approximate population, and one fact about that city. The keys for each city’s dictionary should \\nbe something like country, population, and fact.\\nPrint the name of each city and all of the information you have stored about it.\\n'"
      ]
     },
     "execution_count": 3,
     "metadata": {},
     "output_type": "execute_result"
    }
   ],
   "source": [
    "'''\n",
    "Question2:\n",
    "Make a dictionary called cities. Use the names of three cities as keys in your dictionary.\n",
    "Create a dictionary of information about each city and include the country that the city is in,\n",
    "its approximate population, and one fact about that city. The keys for each city’s dictionary should \n",
    "be something like country, population, and fact.\n",
    "Print the name of each city and all of the information you have stored about it.\n",
    "'''\n",
    "#solution:\n"
   ]
  },
  {
   "cell_type": "code",
   "execution_count": 4,
   "metadata": {},
   "outputs": [
    {
     "data": {
      "text/plain": [
       "'\\nQuestion3:\\nA movie theater charges different ticket prices depending on a person’s age.\\nIf a person is under the age of 3, the ticket is free; if they are between 3 and 12, the ticket is\\n$10; and if they are over age 12, the ticket is $15. Write a loop in which you ask users their age,\\nand then tell them the cost of their movie ticket.\\n'"
      ]
     },
     "execution_count": 4,
     "metadata": {},
     "output_type": "execute_result"
    }
   ],
   "source": [
    "'''\n",
    "Question3:\n",
    "A movie theater charges different ticket prices depending on a person’s age.\n",
    "If a person is under the age of 3, the ticket is free; if they are between 3 and 12, the ticket is\n",
    "$10; and if they are over age 12, the ticket is $15. Write a loop in which you ask users their age,\n",
    "and then tell them the cost of their movie ticket.\n",
    "'''\n",
    "#Solution:\n"
   ]
  },
  {
   "cell_type": "code",
   "execution_count": 5,
   "metadata": {},
   "outputs": [
    {
     "data": {
      "text/plain": [
       "'\\nQuestion4:\\nWrite a function called favorite_book() that accepts one parameter, title.\\nThe function should print a message, such as One of my favorite books is Alice in Wonderland.\\nCall the function, making sure to include a book title as an argument in the function call.\\n'"
      ]
     },
     "execution_count": 5,
     "metadata": {},
     "output_type": "execute_result"
    }
   ],
   "source": [
    "'''\n",
    "Question4:\n",
    "Write a function called favorite_book() that accepts one parameter, title.\n",
    "The function should print a message, such as One of my favorite books is Alice in Wonderland.\n",
    "Call the function, making sure to include a book title as an argument in the function call.\n",
    "'''\n",
    "#Solution:\n",
    "\n"
   ]
  },
  {
   "cell_type": "code",
   "execution_count": null,
   "metadata": {},
   "outputs": [],
   "source": [
    "'''\n",
    "Question5:\n",
    "Guess the number game\n",
    "Write a program which randomly generate a number between 1 to 30 and ask the user in input field \n",
    "to guess the correct number. Give three chances to user guess the number and also give hint to user\n",
    "if hidden number is greater or smaller than the number he given to input field.\n",
    "'''\n",
    "#Solution:"
   ]
  }
 ],
 "metadata": {
  "kernelspec": {
   "display_name": "Python 3",
   "language": "python",
   "name": "python3"
  },
  "language_info": {
   "codemirror_mode": {
    "name": "ipython",
    "version": 3
   },
   "file_extension": ".py",
   "mimetype": "text/x-python",
   "name": "python",
   "nbconvert_exporter": "python",
   "pygments_lexer": "ipython3",
   "version": "3.7.1"
  }
 },
 "nbformat": 4,
 "nbformat_minor": 2
}
