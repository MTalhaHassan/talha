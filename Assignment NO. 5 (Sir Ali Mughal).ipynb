{
 "cells": [
  {
   "cell_type": "code",
   "execution_count": 9,
   "metadata": {},
   "outputs": [
    {
     "name": "stdout",
     "output_type": "stream",
     "text": [
      "Enter a Number: 6\n",
      "720\n"
     ]
    }
   ],
   "source": [
    "'''\n",
    "Question:1 Write a Python function to calculate the factorial of a number (a non-negative integer).\n",
    "The function accepts the number as an argument.\n",
    "'''\n",
    "#Solution:\n",
    "def factorial(a):\n",
    "    if a == 0:\n",
    "        return 1\n",
    "    else:\n",
    "        return a * factorial(a-1)\n",
    "a=int(input(\"Enter a Number: \"))\n",
    "print(factorial(a))"
   ]
  },
  {
   "cell_type": "code",
   "execution_count": 15,
   "metadata": {},
   "outputs": [
    {
     "name": "stdout",
     "output_type": "stream",
     "text": [
      "Enter your string value : Talha najaM\n",
      "No. of Upper case characters :  2\n",
      "No. of Lower case Characters :  8\n"
     ]
    }
   ],
   "source": [
    "'''\n",
    "Question:2 Write a Python function that accepts a string and\n",
    "calculate the number of upper case letters and lower case letters. \n",
    "'''\n",
    "#Solution:\n",
    "def test(s):\n",
    "    d={\"UPPER_CASE\":0, \"LOWER_CASE\":0}\n",
    "    for c in s:\n",
    "        if c.isupper():\n",
    "           d[\"UPPER_CASE\"]+=1\n",
    "        elif c.islower():\n",
    "           d[\"LOWER_CASE\"]+=1\n",
    "        \n",
    "    print (\"No. of Upper case characters : \", d[\"UPPER_CASE\"])\n",
    "    print (\"No. of Lower case Characters : \", d[\"LOWER_CASE\"])\n",
    "\n",
    "s  = str(input(\"Enter your string value : \"))\n",
    "test(s)"
   ]
  },
  {
   "cell_type": "code",
   "execution_count": 18,
   "metadata": {},
   "outputs": [
    {
     "name": "stdout",
     "output_type": "stream",
     "text": [
      "[2, 4, 6, 8, 12, 14, 16]\n"
     ]
    }
   ],
   "source": [
    "'''\n",
    "Question:3 Write a Python function to print the even numbers from a given list. \n",
    "'''\n",
    "#Solution:\n",
    "def even_num(n):\n",
    "    numbers = []\n",
    "    for a in n:\n",
    "        if a % 2 == 0:\n",
    "            numbers.append(a)\n",
    "    return numbers\n",
    "print(even_num([1, 2, 3, 4, 5, 6, 7, 8, 9,12 ,55,14,15,16]))"
   ]
  },
  {
   "cell_type": "code",
   "execution_count": 23,
   "metadata": {},
   "outputs": [
    {
     "name": "stdout",
     "output_type": "stream",
     "text": [
      "Enter any word : Madam\n",
      "The string is a palindrome.\n"
     ]
    }
   ],
   "source": [
    "'''\n",
    "Question:4 \n",
    "Write a Python function that checks whether a passed string is palindrome or not.\n",
    "Note: A palindrome is a word, phrase, or sequence that reads the same backward as forward, e.g.\n",
    "madam \n",
    "'''\n",
    "#Solution:\n",
    "def palindrome():\n",
    "    my_string = str(input(\"Enter any word : \"))\n",
    "    my_string = my_string.casefold()  # Used for caseless comparison\n",
    "    rev_string = reversed(my_string)  #Used to reverse the string value you have entered\n",
    "    if list(my_string) == list(rev_string):\n",
    "           print(\"The string is a palindrome.\")\n",
    "    else:\n",
    "        print(\"This String is not a palindrome\")\n",
    "palindrome()"
   ]
  },
  {
   "cell_type": "code",
   "execution_count": 34,
   "metadata": {},
   "outputs": [
    {
     "name": "stdout",
     "output_type": "stream",
     "text": [
      "Enter an Integer Value \n",
      "1\n",
      "1  is not a prime number\n"
     ]
    }
   ],
   "source": [
    "'''\n",
    "Question:5 Write a Python function that takes a number as a parameter and check the number is prime \n",
    "or not. \n",
    "'''\n",
    "#Solution:\n",
    "def prime():\n",
    "    num = int(input(\"Enter an Integer Value \\n\"))\n",
    "    if num > 1:\n",
    "        for a in range(2 , num):\n",
    "            if(num % a) == 0:\n",
    "                print(num, \" is not a prime Number\")\n",
    "                break\n",
    "            else:\n",
    "                print(num,\" is a Prime Number\")\n",
    "    else:\n",
    "        print(num, \" is not a prime number\")\n",
    "prime()"
   ]
  },
  {
   "cell_type": "code",
   "execution_count": 33,
   "metadata": {},
   "outputs": [
    {
     "data": {
      "text/plain": [
       "'\\nQuestion: 6 Suppose a customer is shopping in a market and you need to print all the items which user\\nbought from market. Write a function which accepts the multiple arguments of user shopping list and \\nprint all the items which user bought from market. \\n(Hint: Arbitrary Argument concept can make this task ease) \\n'"
      ]
     },
     "execution_count": 33,
     "metadata": {},
     "output_type": "execute_result"
    }
   ],
   "source": [
    "'''\n",
    "Question: 6\n",
    "Suppose a customer is shopping in a market and you need to print all the items which user\n",
    "bought from market. Write a function which accepts the multiple arguments of user shopping list and \n",
    "print all the items which user bought from market. \n",
    "(Hint: Arbitrary Argument concept can make this task ease) \n",
    "'''\n",
    "#Solution:\n"
   ]
  },
  {
   "cell_type": "code",
   "execution_count": null,
   "metadata": {},
   "outputs": [],
   "source": []
  }
 ],
 "metadata": {
  "kernelspec": {
   "display_name": "Python 3",
   "language": "python",
   "name": "python3"
  },
  "language_info": {
   "codemirror_mode": {
    "name": "ipython",
    "version": 3
   },
   "file_extension": ".py",
   "mimetype": "text/x-python",
   "name": "python",
   "nbconvert_exporter": "python",
   "pygments_lexer": "ipython3",
   "version": "3.7.1"
  }
 },
 "nbformat": 4,
 "nbformat_minor": 2
}
